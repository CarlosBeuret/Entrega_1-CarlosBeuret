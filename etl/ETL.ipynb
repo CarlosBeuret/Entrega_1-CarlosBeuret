{
 "cells": [
  {
   "attachments": {},
   "cell_type": "markdown",
   "metadata": {},
   "source": [
    "# <h1 align=center> PROYECTO INDIVIDUAL Nº1 </h1>\n",
    "<hr>\n",
    "<h2 align=center>Extracción, transformación y carga de los datos (ETL)</h2>"
   ]
  },
  {
   "attachments": {},
   "cell_type": "markdown",
   "metadata": {},
   "source": [
    "**Importamos librerias.-**"
   ]
  },
  {
   "cell_type": "code",
   "execution_count": 2,
   "metadata": {},
   "outputs": [],
   "source": [
    "import pandas as pd\n",
    "import numpy as np\n",
    "import  sqlalchemy as sql"
   ]
  },
  {
   "attachments": {},
   "cell_type": "markdown",
   "metadata": {},
   "source": [
    "**1-Extracción de los datos**"
   ]
  },
  {
   "attachments": {},
   "cell_type": "markdown",
   "metadata": {},
   "source": [
    "Lo primero que hacemos es leer los datos de los archivos .csv y json utilizando dataframe de pandas."
   ]
  },
  {
   "cell_type": "code",
   "execution_count": 30,
   "metadata": {},
   "outputs": [],
   "source": [
    "df = pd.read_csv(\"../dataset/Patentamiento.csv\", index_col=0, sep=\";\")\n"
   ]
  },
  {
   "cell_type": "code",
   "execution_count": 17,
   "metadata": {},
   "outputs": [
    {
     "data": {
      "text/html": [
       "<div>\n",
       "<style scoped>\n",
       "    .dataframe tbody tr th:only-of-type {\n",
       "        vertical-align: middle;\n",
       "    }\n",
       "\n",
       "    .dataframe tbody tr th {\n",
       "        vertical-align: top;\n",
       "    }\n",
       "\n",
       "    .dataframe thead th {\n",
       "        text-align: right;\n",
       "    }\n",
       "</style>\n",
       "<table border=\"1\" class=\"dataframe\">\n",
       "  <thead>\n",
       "    <tr style=\"text-align: right;\">\n",
       "      <th></th>\n",
       "      <th>ene-23</th>\n",
       "      <th>feb-23</th>\n",
       "      <th>mar-23</th>\n",
       "      <th>Total</th>\n",
       "    </tr>\n",
       "    <tr>\n",
       "      <th>Descripción</th>\n",
       "      <th></th>\n",
       "      <th></th>\n",
       "      <th></th>\n",
       "      <th></th>\n",
       "    </tr>\n",
       "  </thead>\n",
       "  <tbody>\n",
       "    <tr>\n",
       "      <th>HONDA</th>\n",
       "      <td>NaN</td>\n",
       "      <td>NaN</td>\n",
       "      <td>NaN</td>\n",
       "      <td>NaN</td>\n",
       "    </tr>\n",
       "    <tr>\n",
       "      <th>HONDA WAVE 110 S</th>\n",
       "      <td>4.419</td>\n",
       "      <td>3.634</td>\n",
       "      <td>3.870</td>\n",
       "      <td>11.923</td>\n",
       "    </tr>\n",
       "    <tr>\n",
       "      <th>HONDA XR150L</th>\n",
       "      <td>1.284</td>\n",
       "      <td>1.106</td>\n",
       "      <td>1.468</td>\n",
       "      <td>3.858</td>\n",
       "    </tr>\n",
       "    <tr>\n",
       "      <th>HONDA GLH 150</th>\n",
       "      <td>1.082</td>\n",
       "      <td>1.125</td>\n",
       "      <td>1.505</td>\n",
       "      <td>3.712</td>\n",
       "    </tr>\n",
       "    <tr>\n",
       "      <th>HONDA XR250 TORNADO</th>\n",
       "      <td>1.094</td>\n",
       "      <td>761.000</td>\n",
       "      <td>526.000</td>\n",
       "      <td>2.381</td>\n",
       "    </tr>\n",
       "  </tbody>\n",
       "</table>\n",
       "</div>"
      ],
      "text/plain": [
       "                             ene-23   feb-23   mar-23   Total\n",
       "Descripción                                                  \n",
       "HONDA                           NaN      NaN      NaN     NaN\n",
       "        HONDA WAVE 110 S      4.419    3.634    3.870  11.923\n",
       "        HONDA XR150L          1.284    1.106    1.468   3.858\n",
       "        HONDA GLH 150         1.082    1.125    1.505   3.712\n",
       "        HONDA XR250 TORNADO   1.094  761.000  526.000   2.381"
      ]
     },
     "execution_count": 17,
     "metadata": {},
     "output_type": "execute_result"
    }
   ],
   "source": [
    "df.head()"
   ]
  },
  {
   "cell_type": "code",
   "execution_count": 18,
   "metadata": {},
   "outputs": [
    {
     "name": "stdout",
     "output_type": "stream",
     "text": [
      "<class 'pandas.core.frame.DataFrame'>\n",
      "Index: 825 entries, HONDA to TOTAL\n",
      "Data columns (total 4 columns):\n",
      " #   Column  Non-Null Count  Dtype  \n",
      "---  ------  --------------  -----  \n",
      " 0   ene-23  488 non-null    float64\n",
      " 1   feb-23  447 non-null    float64\n",
      " 2   mar-23  465 non-null    float64\n",
      " 3   Total   657 non-null    float64\n",
      "dtypes: float64(4)\n",
      "memory usage: 32.2+ KB\n"
     ]
    }
   ],
   "source": [
    "df.info()"
   ]
  },
  {
   "attachments": {},
   "cell_type": "markdown",
   "metadata": {},
   "source": [
    "**2.Transformaciones.-**"
   ]
  },
  {
   "attachments": {},
   "cell_type": "markdown",
   "metadata": {},
   "source": [
    "Lo que debemos ahcer en este caso es separar la marca del modelo. Además, eliminar las filas que solo sale el nombre de la marca y la del subtotal."
   ]
  },
  {
   "attachments": {},
   "cell_type": "markdown",
   "metadata": {},
   "source": [
    "**3.Creación de la base de datos.-**"
   ]
  },
  {
   "attachments": {},
   "cell_type": "markdown",
   "metadata": {},
   "source": [
    "Por ultimo, enviamos nuestro Dataframe normalizado a nuestra base de datos."
   ]
  },
  {
   "cell_type": "code",
   "execution_count": 26,
   "metadata": {},
   "outputs": [],
   "source": [
    "url_engine =\"sqlite:///../database/database.db\"\n",
    "engine_etl = sql.create_engine(url=url_engine)"
   ]
  },
  {
   "cell_type": "code",
   "execution_count": 31,
   "metadata": {},
   "outputs": [
    {
     "data": {
      "text/plain": [
       "825"
      ]
     },
     "execution_count": 31,
     "metadata": {},
     "output_type": "execute_result"
    }
   ],
   "source": [
    "df.to_sql(\"database\", con = engine_etl, if_exists= \"replace\", index= True)"
   ]
  }
 ],
 "metadata": {
  "kernelspec": {
   "display_name": "Python 3.9.4 64-bit",
   "language": "python",
   "name": "python3"
  },
  "language_info": {
   "codemirror_mode": {
    "name": "ipython",
    "version": 3
   },
   "file_extension": ".py",
   "mimetype": "text/x-python",
   "name": "python",
   "nbconvert_exporter": "python",
   "pygments_lexer": "ipython3",
   "version": "3.10.9"
  },
  "orig_nbformat": 4,
  "vscode": {
   "interpreter": {
    "hash": "88138175cbb6224e62c0ece1f7e9b6cb34c161666cf36be8b5c20091db9a983b"
   }
  }
 },
 "nbformat": 4,
 "nbformat_minor": 2
}
